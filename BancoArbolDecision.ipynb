{
 "cells": [
  {
   "cell_type": "code",
   "execution_count": 3,
   "metadata": {},
   "outputs": [
    {
     "name": "stdout",
     "output_type": "stream",
     "text": [
      "Bienvenido\n",
      "Numero targeta: 0000\n",
      "PIN: 1234\n"
     ]
    },
    {
     "ename": "NameError",
     "evalue": "name 'cos' is not defined",
     "output_type": "error",
     "traceback": [
      "\u001b[1;31m---------------------------------------------------------------------------\u001b[0m",
      "\u001b[1;31mNameError\u001b[0m                                 Traceback (most recent call last)",
      "\u001b[1;32m<ipython-input-3-a31bf557beec>\u001b[0m in \u001b[0;36m<module>\u001b[1;34m\u001b[0m\n\u001b[0;32m     71\u001b[0m \u001b[1;33m\u001b[0m\u001b[0m\n\u001b[0;32m     72\u001b[0m \u001b[1;32mwhile\u001b[0m \u001b[1;33m(\u001b[0m\u001b[0miniciar\u001b[0m \u001b[1;33m==\u001b[0m \u001b[1;32mTrue\u001b[0m\u001b[1;33m)\u001b[0m \u001b[1;33m:\u001b[0m\u001b[1;33m\u001b[0m\u001b[1;33m\u001b[0m\u001b[0m\n\u001b[1;32m---> 73\u001b[1;33m   \u001b[0mejecutar\u001b[0m\u001b[1;33m(\u001b[0m\u001b[1;33m)\u001b[0m\u001b[1;33m\u001b[0m\u001b[1;33m\u001b[0m\u001b[0m\n\u001b[0m\u001b[0;32m     74\u001b[0m   \u001b[0mrespuesta\u001b[0m \u001b[1;33m=\u001b[0m \u001b[0minput\u001b[0m\u001b[1;33m(\u001b[0m\u001b[1;34m\"¿Deseas realizar otra operación? (SI => s, si y NO => valor diferete de s, si): \"\u001b[0m\u001b[1;33m)\u001b[0m\u001b[1;33m\u001b[0m\u001b[1;33m\u001b[0m\u001b[0m\n\u001b[0;32m     75\u001b[0m   \u001b[1;32mif\u001b[0m \u001b[1;33m(\u001b[0m\u001b[0mrespuesta\u001b[0m \u001b[1;33m==\u001b[0m \u001b[1;34m\"s\"\u001b[0m \u001b[1;32mor\u001b[0m \u001b[0mrespuesta\u001b[0m \u001b[1;33m==\u001b[0m \u001b[1;34m\"si\"\u001b[0m \u001b[1;32mor\u001b[0m \u001b[0mrespuesta\u001b[0m \u001b[1;33m==\u001b[0m \u001b[1;34m\"S\"\u001b[0m \u001b[1;32mor\u001b[0m \u001b[0mrespuesta\u001b[0m \u001b[1;33m==\u001b[0m \u001b[1;34m\"SI\"\u001b[0m\u001b[1;33m)\u001b[0m \u001b[1;33m:\u001b[0m\u001b[1;33m\u001b[0m\u001b[1;33m\u001b[0m\u001b[0m\n",
      "\u001b[1;32m<ipython-input-3-a31bf557beec>\u001b[0m in \u001b[0;36mejecutar\u001b[1;34m()\u001b[0m\n\u001b[0;32m     57\u001b[0m     \u001b[1;32mreturn\u001b[0m\u001b[1;33m\u001b[0m\u001b[1;33m\u001b[0m\u001b[0m\n\u001b[0;32m     58\u001b[0m \u001b[1;33m\u001b[0m\u001b[0m\n\u001b[1;32m---> 59\u001b[1;33m   \u001b[0mcos\u001b[0m\u001b[1;33m.\u001b[0m\u001b[0msystem\u001b[0m\u001b[1;33m(\u001b[0m\u001b[1;34m'clear'\u001b[0m\u001b[1;33m)\u001b[0m\u001b[1;33m\u001b[0m\u001b[1;33m\u001b[0m\u001b[0m\n\u001b[0m\u001b[0;32m     60\u001b[0m   \u001b[0mprint\u001b[0m\u001b[1;33m(\u001b[0m\u001b[1;34m\"¿Qué desea hacer?\"\u001b[0m\u001b[1;33m)\u001b[0m\u001b[1;33m\u001b[0m\u001b[1;33m\u001b[0m\u001b[0m\n\u001b[0;32m     61\u001b[0m   \u001b[0mopcion\u001b[0m \u001b[1;33m=\u001b[0m \u001b[0mint\u001b[0m\u001b[1;33m(\u001b[0m\u001b[0minput\u001b[0m\u001b[1;33m(\u001b[0m\u001b[1;34m\"1 => Deposito \\n2 => Retiro \\n3 => Consultar saldo: \"\u001b[0m\u001b[1;33m)\u001b[0m\u001b[1;33m)\u001b[0m\u001b[1;33m\u001b[0m\u001b[1;33m\u001b[0m\u001b[0m\n",
      "\u001b[1;31mNameError\u001b[0m: name 'cos' is not defined"
     ]
    }
   ],
   "source": [
    "usuarioEnBD = \"0000\"\n",
    "claveEnBD = \"1234\"\n",
    "sesion = False\n",
    "saldo = 100000\n",
    "iniciar = True\n",
    "\n",
    "def validarUsuario(usuario, clave) :\n",
    "  global sesion\n",
    "  if (usuario == usuarioEnBD and clave == claveEnBD) :\n",
    "    sesion = True\n",
    "    return True\n",
    "\n",
    "  return False\n",
    "\n",
    "def login() :\n",
    "  global sesion\n",
    "  if (sesion) :\n",
    "    return True\n",
    "\n",
    "  usuario = input(\"Numero targeta: \")\n",
    "  clave = input(\"PIN: \")\n",
    "  return validarUsuario(usuario, clave)\n",
    "\n",
    "def retirar(valor) :\n",
    "  global saldo\n",
    "  if (valor > saldo) :\n",
    "    return False, saldo\n",
    "\n",
    "  saldo = saldo - valor\n",
    "  return True, saldo\n",
    "\n",
    "def depositar(valor) :\n",
    "  global saldo\n",
    "  saldo = saldo + valor\n",
    "  return True, saldo\n",
    "\n",
    "def consultarSaldo() :\n",
    "  return True, saldo\n",
    "\n",
    "def accion(opcion) :\n",
    "  if (opcion == 1) :\n",
    "    valor = int(input(\"Cantidad a depositar: \"))\n",
    "    return depositar(valor)\n",
    "  \n",
    "  if (opcion == 2) :\n",
    "    valor = int(input(\"Digite el valor a retirar: \"))\n",
    "    return retirar(valor)\n",
    "\n",
    "  if (opcion == 3) :\n",
    "    return consultarSaldo()\n",
    "  \n",
    "  return False, saldo\n",
    "\n",
    "def ejecutar() :\n",
    "  if not login() :\n",
    "    print(\"Numero de tarjeta o contraseña inválido\")\n",
    "    return\n",
    "\n",
    "  cos.system('clear')\n",
    "  print(\"¿Qué desea hacer?\")\n",
    "  opcion = int(input(\"1 => Deposito \\n2 => Retiro \\n3 => Consultar saldo: \"))\n",
    "  \n",
    "  ok, saldo = accion(opcion)\n",
    "  if not ok :\n",
    "    print(\"No se realizó la acción\")\n",
    "  else:\n",
    "    print(\"Acción realizada correctamente. \\nSaldo:\", saldo)\n",
    "    print(\"Generando comprobante: \")\n",
    "\n",
    "print(\"Bienvenido\")\n",
    "print(\"Bienvenido\")\n",
    "\n",
    "while (iniciar == True) :\n",
    "  ejecutar()\n",
    "  respuesta = input(\"¿Realizar otra operación? (SI => s, si y NO => valor diferete de s, si): \")\n",
    "  if (respuesta == \"s\" or respuesta == \"si\" or respuesta == \"S\" or respuesta == \"SI\") :\n",
    "    iniciar = True\n",
    "  else:\n",
    "    iniciar = False\n",
    "    print(\"Gracias por utilizar Lobo BanK\")"
   ]
  },
  {
   "cell_type": "code",
   "execution_count": null,
   "metadata": {},
   "outputs": [],
   "source": []
  },
  {
   "cell_type": "code",
   "execution_count": null,
   "metadata": {},
   "outputs": [],
   "source": []
  }
 ],
 "metadata": {
  "celltoolbar": "Raw Cell Format",
  "kernelspec": {
   "display_name": "Python 3",
   "language": "python",
   "name": "python3"
  },
  "language_info": {
   "codemirror_mode": {
    "name": "ipython",
    "version": 3
   },
   "file_extension": ".py",
   "mimetype": "text/x-python",
   "name": "python",
   "nbconvert_exporter": "python",
   "pygments_lexer": "ipython3",
   "version": "3.7.4"
  }
 },
 "nbformat": 4,
 "nbformat_minor": 2
}
